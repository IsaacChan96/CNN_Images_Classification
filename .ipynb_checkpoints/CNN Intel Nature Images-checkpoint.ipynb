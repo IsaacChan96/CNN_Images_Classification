{
 "cells": [
  {
   "cell_type": "code",
   "execution_count": 5,
   "metadata": {},
   "outputs": [
    {
     "name": "stdout",
     "output_type": "stream",
     "text": [
      "CNN predicts forest\n"
     ]
    }
   ],
   "source": [
    "# PART 2: Testing the CNN on Single Predictions\n",
    "\n",
    "import numpy as np\n",
    "from keras.preprocessing import image\n",
    "test_image=image.load_img('Single Prediction/Forest.jpg',target_size=(64,64))\n",
    "test_image=image.img_to_array(test_image)\n",
    "test_image=np.expand_dims(test_image,axis=0)\n",
    "result=classifier.predict(test_image)\n",
    "for i in range(6):\n",
    "    if result[0][i]==1.0:\n",
    "        index=i\n",
    "        if index==0:\n",
    "            print(\"CNN predicts building\")\n",
    "        elif index==1:\n",
    "            print(\"CNN predicts forest\")\n",
    "        elif index==2:\n",
    "            print(\"CNN predicts glacier\")\n",
    "        elif index==3:\n",
    "            print(\"CNN predicts mountain\")\n",
    "        elif index==4:\n",
    "             print(\"CNN predicts sea\")\n",
    "        elif index==5:\n",
    "            print(\"CNN predicts street\")\n",
    "        else:\n",
    "            print(\"Wrong prediction\")\n"
   ]
  },
  {
   "cell_type": "code",
   "execution_count": 3,
   "metadata": {},
   "outputs": [
    {
     "name": "stdout",
     "output_type": "stream",
     "text": [
      "Found 14034 images belonging to 6 classes.\n",
      "Found 3000 images belonging to 6 classes.\n",
      "Epoch 1/1\n",
      "14034/14034 [==============================] - 1280s 91ms/step - loss: 0.5599 - accuracy: 0.7960 - val_loss: 0.6371 - val_accuracy: 0.8167\n"
     ]
    },
    {
     "data": {
      "text/plain": [
       "<keras.callbacks.callbacks.History at 0x13743d110>"
      ]
     },
     "execution_count": 3,
     "metadata": {},
     "output_type": "execute_result"
    }
   ],
   "source": [
    "# PART 1: Building and training the CNN\n",
    "\n",
    "# Importing the Keras libraries and packages\n",
    "from keras.models import Sequential\n",
    "from keras.layers import Conv2D\n",
    "from keras.layers import MaxPooling2D\n",
    "from keras.layers import Flatten\n",
    "from keras.layers import Dense\n",
    "\n",
    "# Initialising the CNN\n",
    "classifier = Sequential()\n",
    "\n",
    "# Step 1 - Convolution. “32” refers to the number of feature detectors. \n",
    "# (3,3) refers to the dimensions of the feature detector. Input shape refers to the shape of the # images. “3” refers to Red, Green, Blue. Only use this if got coloured image. Value of “64” can tinker with it\n",
    "classifier.add(Conv2D(32, (3, 3), input_shape = (64, 64, 3), activation = 'relu'))\n",
    "\n",
    "# Step 2 - Pooling\n",
    "classifier.add(MaxPooling2D(pool_size = (2, 2)))\n",
    "\n",
    "# Adding a second convolutional layer\n",
    "classifier.add(Conv2D(32, (3, 3), activation = 'relu'))\n",
    "classifier.add(MaxPooling2D(pool_size = (2, 2))) #keep max pooling detector to 2,2\n",
    "\n",
    "# Step 3 - Flattening\n",
    "classifier.add(Flatten())\n",
    "\n",
    "# Step 4 - Full connection. Alter the number of units as necessart to something which is a power of 2. Like 128, 64 etc. Can’t be too small or big\n",
    "classifier.add(Dense(units = 64, activation = 'relu'))\n",
    "classifier.add(Dense(units = 6, activation = 'softmax')) #Use 1 if it’s a binary classification\n",
    "\n",
    "# Compiling the CNN. Change loss function to “categorical_crossentropy”  if > than 2 classes\n",
    "classifier.compile(optimizer = 'adam', loss = 'categorical_crossentropy', metrics = ['accuracy'])\n",
    "\n",
    "# Part 2 - Fitting the CNN to the images. Just copy and paste the whole code but change paths for where the images are drawn from\n",
    "\n",
    "from keras.preprocessing.image import ImageDataGenerator\n",
    "\n",
    "train_datagen = ImageDataGenerator(rescale = 1./255,\n",
    "                                   shear_range = 0.2,\n",
    "                                   zoom_range = 0.2,\n",
    "                                   horizontal_flip = True)\n",
    "\n",
    "test_datagen = ImageDataGenerator(rescale = 1./255)\n",
    "\n",
    "training_set = train_datagen.flow_from_directory('intel-image-classification/seg_train/seg_train',\n",
    "                                                 target_size = (64, 64), # change dim to match input shape\n",
    "                                                 batch_size = 16, #can change as neccessary \n",
    "                                                 class_mode = 'categorical')\n",
    "\n",
    "test_set = test_datagen.flow_from_directory('intel-image-classification/seg_test/seg_test',\n",
    "                                            target_size = (64, 64),\n",
    "                                            batch_size = 32,\n",
    "                                            class_mode = 'categorical')\n",
    "\n",
    "classifier.fit_generator(training_set,\n",
    "                         steps_per_epoch = 14034, #value with number of images in training set\n",
    "                         epochs = 1, #adjust as necessary \n",
    "                         validation_data = test_set,\n",
    "                         validation_steps = 3000) #change value to number of test images\n"
   ]
  }
 ],
 "metadata": {
  "kernelspec": {
   "display_name": "Python 3",
   "language": "python",
   "name": "python3"
  },
  "language_info": {
   "codemirror_mode": {
    "name": "ipython",
    "version": 3
   },
   "file_extension": ".py",
   "mimetype": "text/x-python",
   "name": "python",
   "nbconvert_exporter": "python",
   "pygments_lexer": "ipython3",
   "version": "3.7.5"
  }
 },
 "nbformat": 4,
 "nbformat_minor": 2
}
